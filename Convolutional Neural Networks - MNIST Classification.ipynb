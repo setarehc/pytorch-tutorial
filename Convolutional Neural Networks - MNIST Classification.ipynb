{
 "cells": [
  {
   "cell_type": "markdown",
   "metadata": {},
   "source": [
    "This tutorial is inspired by PyTorch Tutorials. The link to the source is <a href=\"https://pytorch.org/tutorials/beginner/blitz/cifar10_tutorial.html\">here</a>. "
   ]
  },
  {
   "cell_type": "markdown",
   "metadata": {},
   "source": [
    "In this tutorial, we will be implementing a convolutional neural network which is able to classify images. The dataset used here is called MNIST consisting of handwritten digits."
   ]
  },
  {
   "cell_type": "code",
   "execution_count": 1,
   "metadata": {},
   "outputs": [],
   "source": [
    "import torch\n",
    "import torchvision\n",
    "import torchvision.transforms as transforms"
   ]
  },
  {
   "cell_type": "markdown",
   "metadata": {},
   "source": [
    "### 1. Load and Prepare the Dataset"
   ]
  },
  {
   "cell_type": "code",
   "execution_count": 2,
   "metadata": {},
   "outputs": [],
   "source": [
    "transform = transforms.Compose([transforms.ToTensor(),  transforms.Normalize((0.1307,), (0.3081,))])\n",
    "\n",
    "trainset = torchvision.datasets.MNIST('root=./data', train=True, download=True, transform=transform)\n",
    "testset = torchvision.datasets.MNIST('root=./data', train=False, download=True, transform=transform)\n",
    "\n",
    "trainloader = torch.utils.data.DataLoader(trainset, batch_size=4, shuffle=True, num_workers=2)\n",
    "testloader = torch.utils.data.DataLoader(testset, batch_size=4, shuffle=False, num_workers=2)\n",
    "\n",
    "classes = ('0', '1', '2', '3', '4', '5', '6', '7', '8', '9')"
   ]
  },
  {
   "cell_type": "markdown",
   "metadata": {},
   "source": [
    "Let's see some of the training samples and their labels:"
   ]
  },
  {
   "cell_type": "code",
   "execution_count": 3,
   "metadata": {},
   "outputs": [
    {
     "data": {
      "image/png": "[encoded data removed]",
      "text/plain": [
       "<matplotlib.figure.Figure at 0x7fa0133394e0>"
      ]
     },
     "metadata": {},
     "output_type": "display_data"
    },
    {
     "name": "stdout",
     "output_type": "stream",
     "text": [
      "7\n"
     ]
    },
    {
     "data": {
      "image/png": "[encoded data removed]",
      "text/plain": [
       "<matplotlib.figure.Figure at 0x7fa086b2a128>"
      ]
     },
     "metadata": {},
     "output_type": "display_data"
    },
    {
     "name": "stdout",
     "output_type": "stream",
     "text": [
      "6\n"
     ]
    },
    {
     "data": {
      "image/png": "[encoded data removed]",
      "text/plain": [
       "<matplotlib.figure.Figure at 0x7fa01315e9e8>"
      ]
     },
     "metadata": {},
     "output_type": "display_data"
    },
    {
     "name": "stdout",
     "output_type": "stream",
     "text": [
      "9\n"
     ]
    },
    {
     "data": {
      "image/png": "[encoded data removed]",
      "text/plain": [
       "<matplotlib.figure.Figure at 0x7fa013103ef0>"
      ]
     },
     "metadata": {},
     "output_type": "display_data"
    },
    {
     "name": "stdout",
     "output_type": "stream",
     "text": [
      "2\n"
     ]
    }
   ],
   "source": [
    "%matplotlib inline\n",
    "import matplotlib.pyplot as plt\n",
    "import numpy as np\n",
    "\n",
    "for i, data in enumerate(trainloader):\n",
    "    imgs, labels = data\n",
    "    plt.figure()\n",
    "    two_d = (np.reshape(imgs[0].numpy(), (28, 28))).astype(np.uint8)\n",
    "    plt.imshow(two_d, cmap='gray')\n",
    "    plt.show()\n",
    "    print(classes[labels[0]])\n",
    "    if i >= 3:\n",
    "        break"
   ]
  },
  {
   "cell_type": "markdown",
   "metadata": {},
   "source": [
    "### 2. Define a Convolutional Neural Network"
   ]
  },
  {
   "cell_type": "markdown",
   "metadata": {},
   "source": [
    "The network architecture is as follows:\n",
    "<img src=\"images/MNIST.png\">\n",
    "\n",
    "First convolutional layer with 10 filters of size 5$*$5, stride 1 and padding 0 followed by a ReLU layer. First Maxpool layer with size and stride set to 2. Second convolutional layer with 20 fitlers of size 5$*$5, stride 1 and padding 0 followed by a ReLU layer. Second Maxpool layer is again with size and stride set to 2. Fully connected layer with 50 output neurons followed by a ReLU layer, and finally, fully connected layer with 10 output neurons."
   ]
  },
  {
   "cell_type": "code",
   "execution_count": 12,
   "metadata": {},
   "outputs": [],
   "source": [
    "import torch.nn as nn\n",
    "import torch.nn.functional as F\n",
    "\n",
    "class Net(nn.Module):\n",
    "    def __init__(self):\n",
    "        super(Net, self).__init__()\n",
    "        self.conv1 = nn.Conv2d(1, 10, 5) # input channel = 3, number of filters = 10, size = 5*5\n",
    "        self.pool = nn.MaxPool2d(2,2)\n",
    "        self.conv2 = nn.Conv2d(10, 20, 5)\n",
    "        self.fc1 = nn.Linear(20*4*4, 50)\n",
    "        self.fc2 = nn.Linear(50, 10)\n",
    "        \n",
    "    def forward(self, x):\n",
    "        a1 = self.pool(F.relu(self.conv1(x)))\n",
    "        a2 = self.pool(F.relu(self.conv2(a1)))\n",
    "        a3 = a2.view(-1, 20*4*4)\n",
    "        a4 = F.relu(self.fc1(a3))\n",
    "        a5 = self.fc2(a4)\n",
    "        return a5"
   ]
  },
  {
   "cell_type": "markdown",
   "metadata": {},
   "source": [
    "Let's build a network and see how the layers of it look like:"
   ]
  },
  {
   "cell_type": "code",
   "execution_count": 13,
   "metadata": {},
   "outputs": [
    {
     "data": {
      "text/plain": [
       "Net(\n",
       "  (conv1): Conv2d(1, 10, kernel_size=(5, 5), stride=(1, 1))\n",
       "  (pool): MaxPool2d(kernel_size=2, stride=2, padding=0, dilation=1, ceil_mode=False)\n",
       "  (conv2): Conv2d(10, 20, kernel_size=(5, 5), stride=(1, 1))\n",
       "  (fc1): Linear(in_features=320, out_features=50, bias=True)\n",
       "  (fc2): Linear(in_features=50, out_features=10, bias=True)\n",
       ")"
      ]
     },
     "execution_count": 13,
     "metadata": {},
     "output_type": "execute_result"
    }
   ],
   "source": [
    "net = Net()\n",
    "net"
   ]
  },
  {
   "cell_type": "markdown",
   "metadata": {},
   "source": [
    "### 3. Define a Loss Function and an Optimizer"
   ]
  },
  {
   "cell_type": "code",
   "execution_count": 14,
   "metadata": {},
   "outputs": [],
   "source": [
    "import torch.optim as optim\n",
    "\n",
    "learning_rate = 0.01\n",
    "\n",
    "criterion = nn.CrossEntropyLoss()\n",
    "optimizer = optim.SGD(net.parameters(), lr=learning_rate, momentum=0.5)"
   ]
  },
  {
   "cell_type": "markdown",
   "metadata": {},
   "source": [
    "### 4. Train the Network"
   ]
  },
  {
   "cell_type": "code",
   "execution_count": 15,
   "metadata": {},
   "outputs": [
    {
     "name": "stdout",
     "output_type": "stream",
     "text": [
      "epoch[1], mini-batch[ 5000] loss: 0.240\n",
      "epoch[1], mini-batch[10000] loss: 0.091\n",
      "epoch[1], mini-batch[15000] loss: 0.077\n",
      "epoch[2], mini-batch[ 5000] loss: 0.059\n",
      "epoch[2], mini-batch[10000] loss: 0.060\n",
      "epoch[2], mini-batch[15000] loss: 0.053\n",
      "epoch[3], mini-batch[ 5000] loss: 0.041\n",
      "epoch[3], mini-batch[10000] loss: 0.044\n",
      "epoch[3], mini-batch[15000] loss: 0.044\n",
      "epoch[4], mini-batch[ 5000] loss: 0.029\n",
      "epoch[4], mini-batch[10000] loss: 0.036\n",
      "epoch[4], mini-batch[15000] loss: 0.037\n",
      "epoch[5], mini-batch[ 5000] loss: 0.027\n",
      "epoch[5], mini-batch[10000] loss: 0.034\n",
      "epoch[5], mini-batch[15000] loss: 0.037\n",
      "epoch[6], mini-batch[ 5000] loss: 0.028\n",
      "epoch[6], mini-batch[10000] loss: 0.028\n",
      "epoch[6], mini-batch[15000] loss: 0.030\n",
      "epoch[7], mini-batch[ 5000] loss: 0.022\n",
      "epoch[7], mini-batch[10000] loss: 0.020\n",
      "epoch[7], mini-batch[15000] loss: 0.027\n",
      "epoch[8], mini-batch[ 5000] loss: 0.023\n",
      "epoch[8], mini-batch[10000] loss: 0.020\n",
      "epoch[8], mini-batch[15000] loss: 0.023\n",
      "epoch[9], mini-batch[ 5000] loss: 0.016\n",
      "epoch[9], mini-batch[10000] loss: 0.028\n",
      "epoch[9], mini-batch[15000] loss: 0.026\n",
      "epoch[10], mini-batch[ 5000] loss: 0.021\n",
      "epoch[10], mini-batch[10000] loss: 0.020\n",
      "epoch[10], mini-batch[15000] loss: 0.029\n",
      "Finished Training\n"
     ]
    }
   ],
   "source": [
    "epochs = 10\n",
    "\n",
    "for epoch in range(epochs):\n",
    "    total_loss = 0\n",
    "    for i, data in enumerate(trainloader, 0):\n",
    "        samples, labels = data\n",
    "        \n",
    "        # Zero the parameter gradients\n",
    "        optimizer.zero_grad()\n",
    "        \n",
    "        predictions = net(samples)\n",
    "        loss = criterion(predictions, labels)\n",
    "        loss.backward()\n",
    "        optimizer.step()\n",
    "        \n",
    "        # Print some statistics\n",
    "        total_loss += loss\n",
    "        if i % 5000 == 4999:\n",
    "            print('epoch[%d], mini-batch[%5d] loss: %.3f' % (epoch+1, i+1, total_loss / 5000))\n",
    "            total_loss = 0\n",
    "\n",
    "print('Finished Training')"
   ]
  },
  {
   "cell_type": "markdown",
   "metadata": {},
   "source": [
    "### 5. Test the Trained Network on Test Data"
   ]
  },
  {
   "cell_type": "markdown",
   "metadata": {},
   "source": [
    "Let's first look at the networks accuracy on the whole test set:"
   ]
  },
  {
   "cell_type": "code",
   "execution_count": 16,
   "metadata": {},
   "outputs": [
    {
     "name": "stdout",
     "output_type": "stream",
     "text": [
      "Accuracy on 10000 test images is = 98 %\n"
     ]
    }
   ],
   "source": [
    "total = 0\n",
    "corrects = 0\n",
    "\n",
    "for data in testloader:\n",
    "    images, labels = data\n",
    "    outputs = net(images)\n",
    "    _, predicted_lables = torch.max(outputs.data, 1)\n",
    "    total += labels.size(0)\n",
    "    corrects += (predicted_lables == labels).sum().item()\n",
    "\n",
    "print('Accuracy on %d test images is = %d %%' % (total, 100*corrects/total))"
   ]
  },
  {
   "cell_type": "markdown",
   "metadata": {},
   "source": [
    "Now, let's look at some samples and their predicted labels:"
   ]
  },
  {
   "cell_type": "code",
   "execution_count": 43,
   "metadata": {},
   "outputs": [
    {
     "data": {
      "image/png": "[encoded data removed]",
      "text/plain": [
       "<matplotlib.figure.Figure at 0x7fa059d39710>"
      ]
     },
     "metadata": {},
     "output_type": "display_data"
    },
    {
     "name": "stdout",
     "output_type": "stream",
     "text": [
      "Predicted Label: [7]\n"
     ]
    },
    {
     "data": {
      "image/png": "[encoded data removed]",
      "text/plain": [
       "<matplotlib.figure.Figure at 0x7fa059d32780>"
      ]
     },
     "metadata": {},
     "output_type": "display_data"
    },
    {
     "name": "stdout",
     "output_type": "stream",
     "text": [
      "Predicted Label: [4]\n"
     ]
    },
    {
     "data": {
      "image/png": "[encoded data removed]",
      "text/plain": [
       "<matplotlib.figure.Figure at 0x7fa059bf8940>"
      ]
     },
     "metadata": {},
     "output_type": "display_data"
    },
    {
     "name": "stdout",
     "output_type": "stream",
     "text": [
      "Predicted Label: [5]\n"
     ]
    },
    {
     "data": {
      "image/png": "[encoded data removed]",
      "text/plain": [
       "<matplotlib.figure.Figure at 0x7fa05affe240>"
      ]
     },
     "metadata": {},
     "output_type": "display_data"
    },
    {
     "name": "stdout",
     "output_type": "stream",
     "text": [
      "Predicted Label: [9]\n"
     ]
    }
   ],
   "source": [
    "for i, data in enumerate(testloader):\n",
    "    imgs, labels = data\n",
    "    plt.figure()\n",
    "    two_d = (np.reshape(imgs[0].numpy(), (28, 28))).astype(np.uint8)\n",
    "    plt.imshow(two_d, cmap='gray')\n",
    "    plt.show()\n",
    "    outputs = net(imgs)\n",
    "    _, predicted_label = torch.topk(outputs[0], 1)\n",
    "    print('Predicted Label:', predicted_label.numpy())\n",
    "    if i >= 3:\n",
    "        break"
   ]
  },
  {
   "cell_type": "code",
   "execution_count": null,
   "metadata": {},
   "outputs": [],
   "source": []
  }
 ],
 "metadata": {
  "kernelspec": {
   "display_name": "Python 3",
   "language": "python",
   "name": "python3"
  },
  "language_info": {
   "codemirror_mode": {
    "name": "ipython",
    "version": 3
   },
   "file_extension": ".py",
   "mimetype": "text/x-python",
   "name": "python",
   "nbconvert_exporter": "python",
   "pygments_lexer": "ipython3",
   "version": "3.6.4"
  }
 },
 "nbformat": 4,
 "nbformat_minor": 2
}
